{
 "cells": [
  {
   "cell_type": "markdown",
   "metadata": {},
   "source": [
    "# Applying Classification Modeling\n",
    "The goal of this week's assessment is to find the model which best predicts whether or not a person will default on their bank loan. In doing so, we want to utilize all of the different tools we have learned over the course: data cleaning, EDA, feature engineering/transformation, feature selection, hyperparameter tuning, and model evaluation. \n",
    "\n",
    "\n",
    "#### Data Set Information:\n",
    "\n",
    "This research aimed at the case of customers default payments in Taiwan and compares the predictive accuracy of probability of default among six data mining methods. From the perspective of risk management, the result of predictive accuracy of the estimated probability of default will be more valuable than the binary result of classification - credible or not credible clients. Because the real probability of default is unknown, this study presented the novel Sorting Smoothing Method to estimate the real probability of default. With the real probability of default as the response variable (Y), and the predictive probability of default as the independent variable (X), the simple linear regression result (Y = A + BX) shows that the forecasting model produced by artificial neural network has the highest coefficient of determination; its regression intercept (A) is close to zero, and regression coefficient (B) to one. Therefore, among the six data mining techniques, artificial neural network is the only one that can accurately estimate the real probability of default. \n",
    "\n",
    "- NT is the abbreviation for New Taiwain. \n",
    "\n",
    "\n",
    "#### Attribute Information:\n",
    "\n",
    "This research employed a binary variable, default payment (Yes = 1, No = 0), as the response variable. This study reviewed the literature and used the following 23 variables as explanatory variables: \n",
    "- X1: Amount of the given credit (NT dollar): it includes both the individual consumer credit and his/her family (supplementary) credit. \n",
    "- X2: Gender (1 = male; 2 = female). \n",
    "- X3: Education (1 = graduate school; 2 = university; 3 = high school; 4 = others). \n",
    "- X4: Marital status (1 = married; 2 = single; 3 = others). \n",
    "- X5: Age (year). \n",
    "- X6 - X11: History of past payment. We tracked the past monthly payment records (from April to September, 2005) as follows: \n",
    "    - X6 = the repayment status in September, 2005; \n",
    "    - X7 = the repayment status in August, 2005; . . .;\n",
    "    - etc...\n",
    "    - X11 = the repayment status in April, 2005. \n",
    "    - The measurement scale for the repayment status is: -1 = pay duly; 1 = payment delay for one month; 2 = payment delay for two months; . . .; 8 = payment delay for eight months; 9 = payment delay for nine months and above. \n",
    "- X12-X17: Amount of bill statement (NT dollar). \n",
    "    - X12 = amount of bill statement in September, 2005;\n",
    "    - etc...\n",
    "    - X13 = amount of bill statement in August, 2005; . . .; \n",
    "    - X17 = amount of bill statement in April, 2005. \n",
    "- X18-X23: Amount of previous payment (NT dollar). \n",
    "    - X18 = amount paid in September, 2005; \n",
    "    - X19 = amount paid in August, 2005; . . .;\n",
    "    - etc...\n",
    "    - X23 = amount paid in April, 2005. \n",
    "\n",
    "\n",
    "\n",
    "\n",
    "You will fit three different models (KNN, Logistic Regression, and Decision Tree Classifier) to predict credit card defaults and use gridsearch to find the best hyperparameters for those models. Then you will compare the performance of those three models on a test set to find the best one.  \n"
   ]
  },
  {
   "cell_type": "code",
   "execution_count": 1,
   "metadata": {},
   "outputs": [],
   "source": [
    "#df.rename(columns={\"X1\": \"Consumer_and_family_credit\", \"X2\": \"Gender\", \"X3\": \"Education\", \"X4\": \"Marital_status\", \n",
    "#                   \"X5\": \"Age\", \"X6\": \"Repay_Sept\", \"X7\": \"Repay_Aug\", \"X8\": \"Repay_Jul\", \"X9\": \"Repay_Jun\",\n",
    "#                   \"X10\": \"Repay_May\", \"X11\": \"Repay_Apr\", \"X12\": \"bill_state_Sept\", \"X13\": \"bill_state_Aug\",\n",
    "#                   \"X14\": \"bill_state_Jul\",\"X15\": \"bill_state_Jun\",\n",
    "#                   \"X16\": \"bill_state_May\",\"X17\": \"bill_state_Apr\",\"X18\": \"amount_paid_Sept\",\"X19\": \"amount_paid_Aug\",\n",
    "#                   \"X20\": \"amount_paid_Jul\", \"X21\": \"amount_paid_Jun\", \"X22\": \"amount_paid_May\", \"X23\": \"amount_paid_Apr\"})"
   ]
  },
  {
   "cell_type": "markdown",
   "metadata": {},
   "source": [
    "## Process/Expectations\n",
    "\n",
    "- You will be working in pairs for this assessment\n",
    "\n",
    "### Please have ONE notebook and be prepared to explain how you worked in your pair.\n",
    "\n",
    "1. Clean up your data set so that you can perform an EDA. \n",
    "    - This includes handling null values, categorical variables, removing unimportant columns, and removing outliers.\n",
    "2. Perform EDA to identify opportunities to create new features.\n",
    "    - [Great Example of EDA for classification](https://www.kaggle.com/stephaniestallworth/titanic-eda-classification-end-to-end) \n",
    "    - [Using Pairplots with Classification](https://towardsdatascience.com/visualizing-data-with-pair-plots-in-python-f228cf529166)\n",
    "3. Engineer new features. \n",
    "    - Create polynomial and/or interaction features. \n",
    "    - Additionaly, you must also create **at least 2 new features** that are not interactions or polynomial transformations. \n",
    "        - *For example, you can create a new dummy variable that based on the value of a continuous variable (billamount6 >2000) or take the average of some past amounts.*\n",
    "4. Perform some feature selection. \n",
    "    \n",
    "5. You must fit **three** models to your data and tune **at least 1 hyperparameter** per model. \n",
    "6. Using the F-1 Score, evaluate how well your models perform and identify your best model.\n",
    "7. Using information from your EDA process and your model(s) output provide insight as to which borrowers are more likely to deafult\n"
   ]
  },
  {
   "cell_type": "code",
   "execution_count": 2,
   "metadata": {},
   "outputs": [],
   "source": [
    "# import libraries\n",
    "import pandas as pd\n",
    "import sqlite3 \n",
    "import matplotlib.pyplot as plt\n",
    "import numpy as np\n",
    "from sklearn.preprocessing import StandardScaler\n",
    "from sklearn.preprocessing import MinMaxScaler\n",
    "import itertools\n",
    "from sklearn.linear_model import LogisticRegression\n",
    "from sklearn.metrics import accuracy_score, f1_score, recall_score\n",
    "from imblearn.over_sampling import SMOTE\n",
    "from collections import Counter\n",
    "from imblearn.under_sampling import TomekLinks\n",
    "from sklearn.neighbors import KNeighborsClassifier\n",
    "from sklearn import metrics\n"
   ]
  },
  {
   "cell_type": "markdown",
   "metadata": {},
   "source": [
    "## 1. Data Cleaning"
   ]
  },
  {
   "cell_type": "code",
   "execution_count": 3,
   "metadata": {
    "scrolled": false
   },
   "outputs": [
    {
     "name": "stderr",
     "output_type": "stream",
     "text": [
      "C:\\Users\\All PC\\anaconda3\\lib\\site-packages\\pandas\\core\\frame.py:4133: SettingWithCopyWarning: \n",
      "A value is trying to be set on a copy of a slice from a DataFrame\n",
      "\n",
      "See the caveats in the documentation: https://pandas.pydata.org/pandas-docs/stable/user_guide/indexing.html#returning-a-view-versus-a-copy\n",
      "  errors=errors,\n"
     ]
    }
   ],
   "source": [
    "df = pd.read_csv('training_data.csv', index_col=0)\n",
    "df.sort_values(by='X1', ascending=False,inplace=True)\n",
    "df.columns = df.iloc[0]\n",
    "data = df[df.SEX != \"SEX\"]\n",
    "data.rename(columns={\"default payment next month\": \"default\"},inplace=True)"
   ]
  },
  {
   "cell_type": "code",
   "execution_count": 4,
   "metadata": {},
   "outputs": [],
   "source": [
    "#df = df.rename(columns={\"X1\": \"Consumer_and_family_credit\", \"X2\": \"Gender\", \"X3\": \"Education\", \"X4\": \"Marital_status\", \n",
    "#                   \"X5\": \"Age\", \"X6\": \"Repay_Sept\", \"X7\": \"Repay_Aug\", \"X8\": \"Repay_Jul\", \"X9\": \"Repay_Jun\",\n",
    "#                   \"X10\": \"Repay_May\", \"X11\": \"Repay_Apr\", \"X12\": \"bill_state_Sept\", \"X13\": \"bill_state_Aug\",\n",
    "#                   \"X14\": \"bill_state_Jul\",\"X15\": \"bill_state_Jun\",\n",
    "#                   \"X16\": \"bill_state_May\",\"X17\": \"bill_state_Apr\",\"X18\": \"amount_paid_Sept\",\"X19\": \"amount_paid_Aug\",\n",
    "#                   \"X20\": \"amount_paid_Jul\", \"X21\": \"amount_paid_Jun\", \"X22\": \"amount_paid_May\", \"X23\": \"amount_paid_Apr\"})"
   ]
  },
  {
   "cell_type": "code",
   "execution_count": 5,
   "metadata": {
    "scrolled": true
   },
   "outputs": [],
   "source": [
    "data = data.astype(float)"
   ]
  },
  {
   "cell_type": "code",
   "execution_count": 6,
   "metadata": {},
   "outputs": [],
   "source": [
    "data['EDUCATION']=np.where(data['EDUCATION']>4,4,data['EDUCATION'])\n",
    "data['EDUCATION']=np.where(data['EDUCATION']<1,4,data['EDUCATION'])"
   ]
  },
  {
   "cell_type": "code",
   "execution_count": 7,
   "metadata": {},
   "outputs": [],
   "source": [
    "data['MARRIAGE']=np.where(data['MARRIAGE']<1,3,data['MARRIAGE'])\n"
   ]
  },
  {
   "cell_type": "code",
   "execution_count": 8,
   "metadata": {},
   "outputs": [],
   "source": [
    "from sklearn.model_selection import train_test_split"
   ]
  },
  {
   "cell_type": "code",
   "execution_count": 9,
   "metadata": {},
   "outputs": [],
   "source": [
    "# Split data to be used in the models\n",
    "# Create matrix of features\n",
    "X = data.drop('default', axis = 1) # grabs everything else but 'Survived'\n",
    "\n",
    "\n",
    "# Create target variable\n",
    "y = data['default'] # y is the column we're trying to predict"
   ]
  },
  {
   "cell_type": "code",
   "execution_count": 10,
   "metadata": {},
   "outputs": [],
   "source": [
    "data = pd.get_dummies(data, columns=['SEX', 'EDUCATION', 'MARRIAGE', 'PAY_0', 'PAY_2',\n",
    "       'PAY_3', 'PAY_4', 'PAY_5', 'PAY_6'],drop_first=True)"
   ]
  },
  {
   "cell_type": "markdown",
   "metadata": {},
   "source": [
    "## 2. EDA"
   ]
  },
  {
   "cell_type": "code",
   "execution_count": 11,
   "metadata": {},
   "outputs": [
    {
     "data": {
      "image/png": "[encoded data removed]",
      "text/plain": [
       "<Figure size 720x432 with 1 Axes>"
      ]
     },
     "metadata": {
      "needs_background": "light"
     },
     "output_type": "display_data"
    }
   ],
   "source": [
    "x = data['PAY_AMT1']\n",
    "y = data['BILL_AMT1']\n",
    "figure, ax = plt.subplots(figsize = (10,6))\n",
    "ax.scatter(x, y);"
   ]
  },
  {
   "cell_type": "markdown",
   "metadata": {},
   "source": [
    "x = data['PAY_AMT2']\n",
    "y = data['LIMIT_BAL']\n",
    "figure, ax = plt.subplots(figsize = (10,6))\n",
    "ax.scatter(x, y);"
   ]
  },
  {
   "cell_type": "markdown",
   "metadata": {},
   "source": [
    "x = data['PAY_AMT3']\n",
    "y = data['LIMIT_BAL']\n",
    "figure, ax = plt.subplots(figsize = (10,6))\n",
    "ax.scatter(x, y);"
   ]
  },
  {
   "cell_type": "markdown",
   "metadata": {},
   "source": [
    "x = data['PAY_AMT4']\n",
    "y = data['LIMIT_BAL']\n",
    "figure, ax = plt.subplots(figsize = (10,6))\n",
    "ax.scatter(x, y);"
   ]
  },
  {
   "cell_type": "markdown",
   "metadata": {},
   "source": [
    "x = data['PAY_AMT5']\n",
    "y = data['LIMIT_BAL']\n",
    "figure, ax = plt.subplots(figsize = (10,6))\n",
    "ax.scatter(x, y);"
   ]
  },
  {
   "cell_type": "markdown",
   "metadata": {},
   "source": [
    "x = data['PAY_AMT6']\n",
    "y = data['LIMIT_BAL']\n",
    "figure, ax = plt.subplots(figsize = (10,6))\n",
    "ax.scatter(x, y);"
   ]
  },
  {
   "cell_type": "markdown",
   "metadata": {},
   "source": []
  },
  {
   "cell_type": "markdown",
   "metadata": {
    "scrolled": true
   },
   "source": [
    "x=data.EDUCATION\n",
    "y=data.AGE\n",
    "figure, ax = plt.subplots(figsize = (10,6))\n",
    "ax.scatter(x, y);"
   ]
  },
  {
   "cell_type": "markdown",
   "metadata": {},
   "source": [
    "x1=data.LIMIT_BAL\n",
    "y1=data.EDUCATION\n",
    "figure, ax = plt.subplots(figsize = (10,6))\n",
    "ax.scatter(x1, y1);"
   ]
  },
  {
   "cell_type": "markdown",
   "metadata": {},
   "source": [
    "x2=data.MARRIAGE\n",
    "y2=data.AGE\n",
    "figure, ax = plt.subplots(figsize = (10,6))\n",
    "ax.scatter(x2, y2);"
   ]
  },
  {
   "cell_type": "markdown",
   "metadata": {},
   "source": [
    "#X6 - X11: History of past payment. We tracked the past monthly payment records (from April to September, 2005) as follows: X6 = the repayment status in September, 2005; X7 = the repayment status in August, 2005; . . .;X11 = the repayment status in April, 2005. The measurement scale for the repayment status is: -1 = pay duly; 1 = payment delay for one month; 2 = payment delay for two months; . . .; 8 = payment delay for eight months; 9 = payment delay for nine months and above.\n",
    "data['PAY_0'].value_counts()\n",
    "#Maybe -2 can be paid in advance"
   ]
  },
  {
   "cell_type": "markdown",
   "metadata": {},
   "source": [
    "## 3. Feature Engineering"
   ]
  },
  {
   "cell_type": "code",
   "execution_count": 12,
   "metadata": {},
   "outputs": [],
   "source": [
    "#data['AMT_1'] = data.BILL_AMT1 - data.PAY_AMT1\n",
    "#data['AMT_2'] = data.BILL_AMT2 - data.PAY_AMT2\n",
    "#data['AMT_3'] = data.BILL_AMT3 - data.PAY_AMT3\n",
    "#data['AMT_4'] = data.BILL_AMT4 - data.PAY_AMT4\n",
    "#data['AMT_5'] = data.BILL_AMT5 - data.PAY_AMT5\n",
    "#data['AMT_6'] = data.BILL_AMT6 - data.PAY_AMT6"
   ]
  },
  {
   "cell_type": "markdown",
   "metadata": {},
   "source": [
    "## 4. Feature Selection"
   ]
  },
  {
   "cell_type": "code",
   "execution_count": 13,
   "metadata": {},
   "outputs": [
    {
     "data": {
      "text/plain": [
       "Index(['LIMIT_BAL', 'AGE', 'BILL_AMT1', 'BILL_AMT2', 'BILL_AMT3', 'BILL_AMT4',\n",
       "       'BILL_AMT5', 'BILL_AMT6', 'PAY_AMT1', 'PAY_AMT2', 'PAY_AMT3',\n",
       "       'PAY_AMT4', 'PAY_AMT5', 'PAY_AMT6', 'default', 'SEX_2.0',\n",
       "       'EDUCATION_2.0', 'EDUCATION_3.0', 'EDUCATION_4.0', 'MARRIAGE_2.0',\n",
       "       'MARRIAGE_3.0', 'PAY_0_-1.0', 'PAY_0_0.0', 'PAY_0_1.0', 'PAY_0_2.0',\n",
       "       'PAY_0_3.0', 'PAY_0_4.0', 'PAY_0_5.0', 'PAY_0_6.0', 'PAY_0_7.0',\n",
       "       'PAY_0_8.0', 'PAY_2_-1.0', 'PAY_2_0.0', 'PAY_2_1.0', 'PAY_2_2.0',\n",
       "       'PAY_2_3.0', 'PAY_2_4.0', 'PAY_2_5.0', 'PAY_2_6.0', 'PAY_2_7.0',\n",
       "       'PAY_2_8.0', 'PAY_3_-1.0', 'PAY_3_0.0', 'PAY_3_1.0', 'PAY_3_2.0',\n",
       "       'PAY_3_3.0', 'PAY_3_4.0', 'PAY_3_5.0', 'PAY_3_6.0', 'PAY_3_7.0',\n",
       "       'PAY_3_8.0', 'PAY_4_-1.0', 'PAY_4_0.0', 'PAY_4_1.0', 'PAY_4_2.0',\n",
       "       'PAY_4_3.0', 'PAY_4_4.0', 'PAY_4_5.0', 'PAY_4_6.0', 'PAY_4_7.0',\n",
       "       'PAY_4_8.0', 'PAY_5_-1.0', 'PAY_5_0.0', 'PAY_5_2.0', 'PAY_5_3.0',\n",
       "       'PAY_5_4.0', 'PAY_5_5.0', 'PAY_5_6.0', 'PAY_5_7.0', 'PAY_5_8.0',\n",
       "       'PAY_6_-1.0', 'PAY_6_0.0', 'PAY_6_2.0', 'PAY_6_3.0', 'PAY_6_4.0',\n",
       "       'PAY_6_5.0', 'PAY_6_6.0', 'PAY_6_7.0', 'PAY_6_8.0'],\n",
       "      dtype='object')"
      ]
     },
     "execution_count": 13,
     "metadata": {},
     "output_type": "execute_result"
    }
   ],
   "source": [
    "data.columns"
   ]
  },
  {
   "cell_type": "code",
   "execution_count": 14,
   "metadata": {},
   "outputs": [],
   "source": [
    "#X = data.drop('default',axis=1)\n",
    "title = ['BILL_AMT1', 'BILL_AMT2', 'BILL_AMT3', 'BILL_AMT4',\n",
    "       'BILL_AMT5', 'BILL_AMT6', 'PAY_AMT1', 'PAY_AMT2', 'PAY_AMT3',\n",
    "       'PAY_AMT4', 'PAY_AMT5', 'PAY_AMT6', 'SEX_2.0',\n",
    "       'EDUCATION_2.0', 'EDUCATION_3.0', 'EDUCATION_4.0', 'MARRIAGE_2.0',\n",
    "       'MARRIAGE_3.0', 'PAY_0_-1.0', 'PAY_0_0.0', 'PAY_0_1.0', 'PAY_0_2.0',\n",
    "       'PAY_0_3.0', 'PAY_0_4.0', 'PAY_0_5.0', 'PAY_0_6.0', 'PAY_0_7.0',\n",
    "       'PAY_0_8.0', 'PAY_2_-1.0', 'PAY_2_0.0', 'PAY_2_1.0', 'PAY_2_2.0',\n",
    "       'PAY_2_3.0', 'PAY_2_4.0', 'PAY_2_5.0', 'PAY_2_6.0', 'PAY_2_7.0',\n",
    "       'PAY_2_8.0', 'PAY_3_-1.0', 'PAY_3_0.0', 'PAY_3_1.0', 'PAY_3_2.0',\n",
    "       'PAY_3_3.0', 'PAY_3_4.0', 'PAY_3_5.0', 'PAY_3_6.0', 'PAY_3_7.0',\n",
    "       'PAY_3_8.0', 'PAY_4_-1.0', 'PAY_4_0.0', 'PAY_4_1.0', 'PAY_4_2.0',\n",
    "       'PAY_4_3.0', 'PAY_4_4.0', 'PAY_4_5.0', 'PAY_4_6.0', 'PAY_4_7.0',\n",
    "       'PAY_4_8.0', 'PAY_5_-1.0', 'PAY_5_0.0', 'PAY_5_2.0', 'PAY_5_3.0',\n",
    "       'PAY_5_4.0', 'PAY_5_5.0', 'PAY_5_6.0', 'PAY_5_7.0', 'PAY_5_8.0',\n",
    "       'PAY_6_-1.0', 'PAY_6_0.0', 'PAY_6_2.0', 'PAY_6_3.0', 'PAY_6_4.0',\n",
    "       'PAY_6_5.0', 'PAY_6_6.0', 'PAY_6_7.0', 'PAY_6_8.0']\n",
    "X= data[title]\n",
    "y=data['default']"
   ]
  },
  {
   "cell_type": "code",
   "execution_count": 15,
   "metadata": {},
   "outputs": [],
   "source": [
    "from sklearn.model_selection import train_test_split\n",
    "X_train, X_test, y_train, y_test = train_test_split(X, y, test_size=0.2, random_state=23, )"
   ]
  },
  {
   "cell_type": "markdown",
   "metadata": {},
   "source": [
    "## Logistical regression without  class balancing"
   ]
  },
  {
   "cell_type": "code",
   "execution_count": 16,
   "metadata": {},
   "outputs": [],
   "source": [
    "X_train, X_test, y_train, y_test = train_test_split(X, y, test_size=0.2, random_state=23, )"
   ]
  },
  {
   "cell_type": "code",
   "execution_count": null,
   "metadata": {},
   "outputs": [],
   "source": []
  },
  {
   "cell_type": "code",
   "execution_count": 56,
   "metadata": {},
   "outputs": [
    {
     "name": "stdout",
     "output_type": "stream",
     "text": [
      "<class 'pandas.core.frame.DataFrame'>\n",
      "Index: 22499 entries, 23626 to 10116\n",
      "Data columns (total 79 columns):\n",
      " #   Column         Non-Null Count  Dtype  \n",
      "---  ------         --------------  -----  \n",
      " 0   LIMIT_BAL      22499 non-null  float64\n",
      " 1   AGE            22499 non-null  float64\n",
      " 2   BILL_AMT1      22499 non-null  float64\n",
      " 3   BILL_AMT2      22499 non-null  float64\n",
      " 4   BILL_AMT3      22499 non-null  float64\n",
      " 5   BILL_AMT4      22499 non-null  float64\n",
      " 6   BILL_AMT5      22499 non-null  float64\n",
      " 7   BILL_AMT6      22499 non-null  float64\n",
      " 8   PAY_AMT1       22499 non-null  float64\n",
      " 9   PAY_AMT2       22499 non-null  float64\n",
      " 10  PAY_AMT3       22499 non-null  float64\n",
      " 11  PAY_AMT4       22499 non-null  float64\n",
      " 12  PAY_AMT5       22499 non-null  float64\n",
      " 13  PAY_AMT6       22499 non-null  float64\n",
      " 14  default        22499 non-null  float64\n",
      " 15  SEX_2.0        22499 non-null  uint8  \n",
      " 16  EDUCATION_2.0  22499 non-null  uint8  \n",
      " 17  EDUCATION_3.0  22499 non-null  uint8  \n",
      " 18  EDUCATION_4.0  22499 non-null  uint8  \n",
      " 19  MARRIAGE_2.0   22499 non-null  uint8  \n",
      " 20  MARRIAGE_3.0   22499 non-null  uint8  \n",
      " 21  PAY_0_-1.0     22499 non-null  uint8  \n",
      " 22  PAY_0_0.0      22499 non-null  uint8  \n",
      " 23  PAY_0_1.0      22499 non-null  uint8  \n",
      " 24  PAY_0_2.0      22499 non-null  uint8  \n",
      " 25  PAY_0_3.0      22499 non-null  uint8  \n",
      " 26  PAY_0_4.0      22499 non-null  uint8  \n",
      " 27  PAY_0_5.0      22499 non-null  uint8  \n",
      " 28  PAY_0_6.0      22499 non-null  uint8  \n",
      " 29  PAY_0_7.0      22499 non-null  uint8  \n",
      " 30  PAY_0_8.0      22499 non-null  uint8  \n",
      " 31  PAY_2_-1.0     22499 non-null  uint8  \n",
      " 32  PAY_2_0.0      22499 non-null  uint8  \n",
      " 33  PAY_2_1.0      22499 non-null  uint8  \n",
      " 34  PAY_2_2.0      22499 non-null  uint8  \n",
      " 35  PAY_2_3.0      22499 non-null  uint8  \n",
      " 36  PAY_2_4.0      22499 non-null  uint8  \n",
      " 37  PAY_2_5.0      22499 non-null  uint8  \n",
      " 38  PAY_2_6.0      22499 non-null  uint8  \n",
      " 39  PAY_2_7.0      22499 non-null  uint8  \n",
      " 40  PAY_2_8.0      22499 non-null  uint8  \n",
      " 41  PAY_3_-1.0     22499 non-null  uint8  \n",
      " 42  PAY_3_0.0      22499 non-null  uint8  \n",
      " 43  PAY_3_1.0      22499 non-null  uint8  \n",
      " 44  PAY_3_2.0      22499 non-null  uint8  \n",
      " 45  PAY_3_3.0      22499 non-null  uint8  \n",
      " 46  PAY_3_4.0      22499 non-null  uint8  \n",
      " 47  PAY_3_5.0      22499 non-null  uint8  \n",
      " 48  PAY_3_6.0      22499 non-null  uint8  \n",
      " 49  PAY_3_7.0      22499 non-null  uint8  \n",
      " 50  PAY_3_8.0      22499 non-null  uint8  \n",
      " 51  PAY_4_-1.0     22499 non-null  uint8  \n",
      " 52  PAY_4_0.0      22499 non-null  uint8  \n",
      " 53  PAY_4_1.0      22499 non-null  uint8  \n",
      " 54  PAY_4_2.0      22499 non-null  uint8  \n",
      " 55  PAY_4_3.0      22499 non-null  uint8  \n",
      " 56  PAY_4_4.0      22499 non-null  uint8  \n",
      " 57  PAY_4_5.0      22499 non-null  uint8  \n",
      " 58  PAY_4_6.0      22499 non-null  uint8  \n",
      " 59  PAY_4_7.0      22499 non-null  uint8  \n",
      " 60  PAY_4_8.0      22499 non-null  uint8  \n",
      " 61  PAY_5_-1.0     22499 non-null  uint8  \n",
      " 62  PAY_5_0.0      22499 non-null  uint8  \n",
      " 63  PAY_5_2.0      22499 non-null  uint8  \n",
      " 64  PAY_5_3.0      22499 non-null  uint8  \n",
      " 65  PAY_5_4.0      22499 non-null  uint8  \n",
      " 66  PAY_5_5.0      22499 non-null  uint8  \n",
      " 67  PAY_5_6.0      22499 non-null  uint8  \n",
      " 68  PAY_5_7.0      22499 non-null  uint8  \n",
      " 69  PAY_5_8.0      22499 non-null  uint8  \n",
      " 70  PAY_6_-1.0     22499 non-null  uint8  \n",
      " 71  PAY_6_0.0      22499 non-null  uint8  \n",
      " 72  PAY_6_2.0      22499 non-null  uint8  \n",
      " 73  PAY_6_3.0      22499 non-null  uint8  \n",
      " 74  PAY_6_4.0      22499 non-null  uint8  \n",
      " 75  PAY_6_5.0      22499 non-null  uint8  \n",
      " 76  PAY_6_6.0      22499 non-null  uint8  \n",
      " 77  PAY_6_7.0      22499 non-null  uint8  \n",
      " 78  PAY_6_8.0      22499 non-null  uint8  \n",
      "dtypes: float64(15), uint8(64)\n",
      "memory usage: 4.7+ MB\n"
     ]
    }
   ],
   "source": [
    "data.info()"
   ]
  },
  {
   "cell_type": "code",
   "execution_count": null,
   "metadata": {},
   "outputs": [],
   "source": []
  },
  {
   "cell_type": "markdown",
   "metadata": {},
   "source": [
    "## Prepping data for hangling class imbalances"
   ]
  },
  {
   "cell_type": "code",
   "execution_count": 17,
   "metadata": {},
   "outputs": [],
   "source": [
    "X_train, X_test, y_train, y_test = train_test_split(X, y, test_size=0.2, random_state=23, )"
   ]
  },
  {
   "cell_type": "code",
   "execution_count": 18,
   "metadata": {},
   "outputs": [],
   "source": [
    "training = pd.concat([X_train,y_train],axis=1)\n",
    "testing = pd.concat([X_test,y_test],axis=1)"
   ]
  },
  {
   "cell_type": "code",
   "execution_count": 19,
   "metadata": {},
   "outputs": [
    {
     "name": "stdout",
     "output_type": "stream",
     "text": [
      "not_defaulted count training: 13945\n",
      "defaulted count training: 4054\n"
     ]
    }
   ],
   "source": [
    "not_defaulted_training = training[training.default==0]\n",
    "defaulted_training = training[training.default==1]\n",
    "print('not_defaulted count training: '+ str(len(not_defaulted_training)))\n",
    "print('defaulted count training: '+ str(len(defaulted_training)))"
   ]
  },
  {
   "cell_type": "code",
   "execution_count": 20,
   "metadata": {},
   "outputs": [
    {
     "name": "stdout",
     "output_type": "stream",
     "text": [
      "not_defaulted count training: 3526\n",
      "defaulted count training: 974\n"
     ]
    }
   ],
   "source": [
    "not_defaulted_testing = testing[testing.default==0]\n",
    "defaulted_testing = testing[testing.default==1]\n",
    "print('not_defaulted count training: '+ str(len(not_defaulted_testing)))\n",
    "print('defaulted count training: '+ str(len(defaulted_testing)))"
   ]
  },
  {
   "cell_type": "markdown",
   "metadata": {},
   "source": [
    "## Upsampling"
   ]
  },
  {
   "cell_type": "code",
   "execution_count": 21,
   "metadata": {},
   "outputs": [],
   "source": [
    "from sklearn.utils import resample\n",
    "default_upsampled_training = resample(defaulted_training,\n",
    "                          replace=True, # sample with replacement\n",
    "                          n_samples=len(not_defaulted_training), # match number in majority class\n",
    "                          random_state=23) # reproducible results"
   ]
  },
  {
   "cell_type": "code",
   "execution_count": 22,
   "metadata": {},
   "outputs": [],
   "source": [
    "default_upsampled_testing = resample(defaulted_testing,\n",
    "                          replace=True, # sample with replacement\n",
    "                          n_samples=len(not_defaulted_testing), # match number in majority class\n",
    "                          random_state=23) # reproducible results"
   ]
  },
  {
   "cell_type": "code",
   "execution_count": 23,
   "metadata": {},
   "outputs": [
    {
     "data": {
      "text/plain": [
       "1.0    13945\n",
       "0.0    13945\n",
       "Name: default, dtype: int64"
      ]
     },
     "execution_count": 23,
     "metadata": {},
     "output_type": "execute_result"
    }
   ],
   "source": [
    "upsampled_training = pd.concat([not_defaulted_training, default_upsampled_training])\n",
    "upsampled_training.default.value_counts()"
   ]
  },
  {
   "cell_type": "code",
   "execution_count": 24,
   "metadata": {},
   "outputs": [
    {
     "data": {
      "text/plain": [
       "1.0    3526\n",
       "0.0    3526\n",
       "Name: default, dtype: int64"
      ]
     },
     "execution_count": 24,
     "metadata": {},
     "output_type": "execute_result"
    }
   ],
   "source": [
    "upsampled_testing = pd.concat([not_defaulted_testing, default_upsampled_testing])\n",
    "upsampled_testing.default.value_counts()"
   ]
  },
  {
   "cell_type": "markdown",
   "metadata": {},
   "source": [
    "## Upsampled logistical regression"
   ]
  },
  {
   "cell_type": "code",
   "execution_count": 25,
   "metadata": {},
   "outputs": [],
   "source": [
    "y_train_upsampled = upsampled_training.default\n",
    "X_train_upsampled = upsampled_training.drop('default', axis=1)"
   ]
  },
  {
   "cell_type": "code",
   "execution_count": 26,
   "metadata": {},
   "outputs": [],
   "source": [
    "y_test_upsampled = upsampled_testing.default\n",
    "X_test_upsampled = upsampled_testing.drop('default', axis=1)"
   ]
  },
  {
   "cell_type": "code",
   "execution_count": 27,
   "metadata": {},
   "outputs": [
    {
     "name": "stdout",
     "output_type": "stream",
     "text": [
      "Training Accuracy score:  0.6984940839010398\n",
      "Traning F1 score:  0.6554676936944319\n"
     ]
    }
   ],
   "source": [
    "upsampled_lr_train = LogisticRegression(solver='liblinear')\n",
    "upsampled_lr_train.fit(X_train_upsampled, y_train_upsampled)\n",
    "upsampled_pred_train = upsampled_lr_train.predict(X_train_upsampled)\n",
    "print('Training Accuracy score: ', accuracy_score(y_train_upsampled, upsampled_pred_train))\n",
    "# checking accuracy\n",
    "print('Traning F1 score: ', f1_score(y_train_upsampled, upsampled_pred_train))"
   ]
  },
  {
   "cell_type": "code",
   "execution_count": 28,
   "metadata": {},
   "outputs": [
    {
     "name": "stdout",
     "output_type": "stream",
     "text": [
      "Testing Accuracy score:  0.702921157118548\n",
      "Testing F1 score:  0.6811748592299497\n"
     ]
    }
   ],
   "source": [
    "upsampled_lr_test = LogisticRegression(solver='liblinear')\n",
    "upsampled_lr_test.fit(X_test_upsampled, y_test_upsampled)\n",
    "upsampled_pred_test = upsampled_lr_test.predict(X_test_upsampled)\n",
    "print('Testing Accuracy score: ', accuracy_score(y_test_upsampled, upsampled_pred_test))\n",
    "# checking accuracy\n",
    "print('Testing F1 score: ', f1_score(y_test_upsampled, upsampled_pred_test))"
   ]
  },
  {
   "cell_type": "markdown",
   "metadata": {},
   "source": [
    "## Upsampled KNN classification"
   ]
  },
  {
   "cell_type": "code",
   "execution_count": 29,
   "metadata": {},
   "outputs": [],
   "source": [
    "from sklearn.preprocessing import StandardScaler\n",
    "from sklearn.preprocessing import MinMaxScaler\n",
    "\n",
    "#scaler = StandardScaler()\n",
    "#scaler.fit(X_train_upsampled)\n",
    "#X_train = scaler.transform(X_train_upsampled)  \n",
    "#X_test = scaler.transform(X_test_upsampled)  "
   ]
  },
  {
   "cell_type": "code",
   "execution_count": null,
   "metadata": {},
   "outputs": [],
   "source": []
  },
  {
   "cell_type": "code",
   "execution_count": 30,
   "metadata": {},
   "outputs": [],
   "source": [
    "def max_value(l):\n",
    "    max_val = max(l)\n",
    "    max_idx = l.index(max_val)\n",
    "    return max_idx, max_val"
   ]
  },
  {
   "cell_type": "code",
   "execution_count": 31,
   "metadata": {},
   "outputs": [
    {
     "name": "stdout",
     "output_type": "stream",
     "text": [
      "19 0.5910380034032898\n"
     ]
    }
   ],
   "source": [
    "#create a container to track the scores\n",
    "k_scores=[]\n",
    "\n",
    "#set up a loop to fit the model using a different values of K\n",
    "\n",
    "k_range = list(range(1, 21))\n",
    "for k in k_range:\n",
    "    knn = KNeighborsClassifier(n_neighbors=k)\n",
    "    #fit the model and get the score on a evaluation metric\n",
    "    knn.fit(X_train_upsampled, y_train_upsampled)\n",
    "    y_pred = knn.predict(X_test_upsampled)\n",
    "    \n",
    "    acc = metrics.accuracy_score(y_test_upsampled, y_pred)\n",
    "    \n",
    "    k_scores.append(acc)\n",
    "\n",
    "#use the max_value function to find the K value that gives you the best accuracy pred \n",
    "idx, val = max_value(k_scores)\n",
    "    \n",
    "print(idx+1, val)"
   ]
  },
  {
   "cell_type": "code",
   "execution_count": 32,
   "metadata": {},
   "outputs": [
    {
     "data": {
      "text/plain": [
       "0.5478814216979667"
      ]
     },
     "execution_count": 32,
     "metadata": {},
     "output_type": "execute_result"
    }
   ],
   "source": [
    "f1_score(y_test_upsampled, y_pred)"
   ]
  },
  {
   "cell_type": "code",
   "execution_count": null,
   "metadata": {},
   "outputs": [],
   "source": []
  },
  {
   "cell_type": "code",
   "execution_count": null,
   "metadata": {},
   "outputs": [],
   "source": []
  },
  {
   "cell_type": "code",
   "execution_count": null,
   "metadata": {},
   "outputs": [],
   "source": []
  },
  {
   "cell_type": "code",
   "execution_count": null,
   "metadata": {},
   "outputs": [],
   "source": []
  },
  {
   "cell_type": "markdown",
   "metadata": {},
   "source": [
    "## Down sampling"
   ]
  },
  {
   "cell_type": "code",
   "execution_count": 33,
   "metadata": {},
   "outputs": [],
   "source": [
    "# downsample majority\n",
    "default_downsampled_training = resample(not_defaulted_training,\n",
    "                                replace = False, # sample without replacement\n",
    "                                n_samples = len(defaulted_training), # match minority n\n",
    "                                random_state = 23) # reproducible results"
   ]
  },
  {
   "cell_type": "code",
   "execution_count": 34,
   "metadata": {},
   "outputs": [],
   "source": [
    "default_downsampled_testing = resample(not_defaulted_testing,\n",
    "                          replace=False, # sample with replacement\n",
    "                          n_samples=len(defaulted_testing), # match number in majority class\n",
    "                          random_state=23) # reproducible results"
   ]
  },
  {
   "cell_type": "code",
   "execution_count": 35,
   "metadata": {},
   "outputs": [
    {
     "data": {
      "text/plain": [
       "1.0    4054\n",
       "0.0    4054\n",
       "Name: default, dtype: int64"
      ]
     },
     "execution_count": 35,
     "metadata": {},
     "output_type": "execute_result"
    }
   ],
   "source": [
    "downsampled_training = pd.concat([default_downsampled_training, defaulted_training])\n",
    "downsampled_training.default.value_counts()"
   ]
  },
  {
   "cell_type": "code",
   "execution_count": 36,
   "metadata": {},
   "outputs": [
    {
     "data": {
      "text/plain": [
       "1.0    974\n",
       "0.0    974\n",
       "Name: default, dtype: int64"
      ]
     },
     "execution_count": 36,
     "metadata": {},
     "output_type": "execute_result"
    }
   ],
   "source": [
    "downsampled_testing = pd.concat([default_downsampled_testing, defaulted_testing])\n",
    "downsampled_testing.default.value_counts()"
   ]
  },
  {
   "cell_type": "code",
   "execution_count": 37,
   "metadata": {},
   "outputs": [
    {
     "name": "stdout",
     "output_type": "stream",
     "text": [
      "Test Accuracy score:  0.693759250123335\n",
      "Test F1 score:  0.6663979578127099\n"
     ]
    }
   ],
   "source": [
    "y_train_down = downsampled_training.default\n",
    "X_train_down = downsampled_training.drop('default', axis=1)\n",
    "downsampled_lr_train = LogisticRegression(solver='liblinear')\n",
    "downsampled_lr_train.fit(X_train_down, y_train_down)\n",
    "downsampled_pred_train = downsampled_lr_train.predict(X_train_down)\n",
    "print('Test Accuracy score: ', accuracy_score(y_train_down, downsampled_pred_train))\n",
    "print('Test F1 score: ', f1_score(y_train_down, downsampled_pred_train))"
   ]
  },
  {
   "cell_type": "code",
   "execution_count": 38,
   "metadata": {},
   "outputs": [
    {
     "name": "stdout",
     "output_type": "stream",
     "text": [
      "Test Accuracy score:  0.721252566735113\n",
      "Test F1 score:  0.6826417299824664\n"
     ]
    }
   ],
   "source": [
    "y_test_down = downsampled_testing.default\n",
    "X_test_down = downsampled_testing.drop('default', axis=1)\n",
    "downsampled_lr_test = LogisticRegression(solver='liblinear')\n",
    "downsampled_lr_test.fit(X_test_down, y_test_down)\n",
    "downsampled_pred_test = downsampled_lr_test.predict(X_test_down)\n",
    "print('Test Accuracy score: ', accuracy_score(y_test_down, downsampled_pred_test))\n",
    "print('Test F1 score: ', f1_score(y_test_down, downsampled_pred_test))"
   ]
  },
  {
   "cell_type": "markdown",
   "metadata": {},
   "source": [
    "## Down Sampling KNN Classification "
   ]
  },
  {
   "cell_type": "code",
   "execution_count": 39,
   "metadata": {},
   "outputs": [
    {
     "name": "stdout",
     "output_type": "stream",
     "text": [
      "19 0.6031827515400411\n"
     ]
    }
   ],
   "source": [
    "#create a container to track the scores\n",
    "k_scores=[]\n",
    "\n",
    "#set up a loop to fit the model using a different values of K\n",
    "\n",
    "k_range = list(range(1, 21))\n",
    "for k in k_range:\n",
    "    knn = KNeighborsClassifier(n_neighbors=k)\n",
    "    #fit the model and get the score on a evaluation metric\n",
    "    knn.fit(X_train_down, y_train_down)\n",
    "    y_pred = knn.predict(X_test_down)\n",
    "    \n",
    "    acc = metrics.accuracy_score(y_test_down, y_pred)\n",
    "    \n",
    "    k_scores.append(acc)\n",
    "\n",
    "#use the max_value function to find the K value that gives you the best accuracy pred \n",
    "idx, val = max_value(k_scores)\n",
    "    \n",
    "print(idx+1, val)"
   ]
  },
  {
   "cell_type": "markdown",
   "metadata": {},
   "source": [
    "## SMOTE"
   ]
  },
  {
   "cell_type": "code",
   "execution_count": 40,
   "metadata": {},
   "outputs": [
    {
     "name": "stdout",
     "output_type": "stream",
     "text": [
      "Test Accuracy score:  0.5594666666666667\n",
      "Test F1 score:  0.4242565055762082\n"
     ]
    }
   ],
   "source": [
    "X = data.drop('default',axis=1)\n",
    "y=data['default']\n",
    "X_train, X_test, y_train, y_test = train_test_split(X, y, test_size=0.25, random_state=23, )\n",
    "sm = SMOTE(sampling_strategy='minority', random_state=23)\n",
    "X_train, y_train = sm.fit_sample(X_train, y_train)\n",
    "lr = LogisticRegression(solver='liblinear')\n",
    "smote_lr = LogisticRegression(solver='liblinear')\n",
    "smote_lr.fit(X_train, y_train)\n",
    "smote_pred = smote_lr.predict(X_test)\n",
    "print('Test Accuracy score: ', accuracy_score(y_test, smote_pred))\n",
    "print('Test F1 score: ', f1_score(y_test, smote_pred))"
   ]
  },
  {
   "cell_type": "markdown",
   "metadata": {},
   "source": [
    "## TomeLinks"
   ]
  },
  {
   "cell_type": "code",
   "execution_count": null,
   "metadata": {},
   "outputs": [],
   "source": []
  },
  {
   "cell_type": "code",
   "execution_count": 41,
   "metadata": {},
   "outputs": [],
   "source": [
    "X = data.drop('default',axis=1)\n",
    "y=data['default']\n",
    "X_train, X_test, y_train, y_test = train_test_split(X, y, test_size=0.20, random_state=23)\n",
    "#tl = TomekLinks()\n",
    "#X_res, y_res = tl.fit_resample(X_train, y_train)\n",
    "#print('Resampled dataset shape %s' % Counter(y_res))"
   ]
  },
  {
   "cell_type": "code",
   "execution_count": 42,
   "metadata": {},
   "outputs": [
    {
     "name": "stdout",
     "output_type": "stream",
     "text": [
      "Test Accuracy score:  0.7835555555555556\n",
      "Test F1 score:  0.0\n"
     ]
    }
   ],
   "source": [
    "tl = TomekLinks()\n",
    "X_resampled, y_resampled = tl.fit_sample(X_train, y_train)\n",
    "tomek_lr = LogisticRegression(solver='liblinear')\n",
    "tomek_lr.fit(X_resampled, y_resampled)\n",
    "tomek_pred = tomek_lr.predict(X_test)\n",
    "print('Test Accuracy score: ', accuracy_score(y_test, tomek_pred))\n",
    "print('Test F1 score: ', f1_score(y_test, tomek_pred))"
   ]
  },
  {
   "cell_type": "markdown",
   "metadata": {},
   "source": [
    "## Penalize Algorithms"
   ]
  },
  {
   "cell_type": "code",
   "execution_count": 43,
   "metadata": {},
   "outputs": [],
   "source": [
    "X = data.drop('default',axis=1)\n",
    "y=data['default']\n",
    "X_train, X_test, y_train, y_test = train_test_split(X, y, test_size=0.2, random_state=23, )"
   ]
  },
  {
   "cell_type": "code",
   "execution_count": 44,
   "metadata": {},
   "outputs": [
    {
     "name": "stdout",
     "output_type": "stream",
     "text": [
      "Test Accuracy score:  0.5568888888888889\n",
      "Test F1 score:  0.41899766899766905\n"
     ]
    }
   ],
   "source": [
    "lr_clf_weighted = LogisticRegression(solver='liblinear', class_weight='balanced')\n",
    "lr_clf_weighted.fit(X_train, y_train)\n",
    "y_weighted_test = lr_clf_weighted.predict(X_test)\n",
    "print('Test Accuracy score: ', accuracy_score(y_test, y_weighted_test))\n",
    "print('Test F1 score: ', f1_score(y_test, y_weighted_test))"
   ]
  },
  {
   "cell_type": "markdown",
   "metadata": {},
   "source": [
    "## Decision Trees"
   ]
  },
  {
   "cell_type": "code",
   "execution_count": 45,
   "metadata": {},
   "outputs": [],
   "source": [
    "X = data.drop('default',axis=1)\n",
    "y=data['default']\n",
    "X_train, X_test, y_train, y_test = train_test_split(X, y, test_size=0.2, random_state=23, )"
   ]
  },
  {
   "cell_type": "code",
   "execution_count": 46,
   "metadata": {},
   "outputs": [],
   "source": [
    "# Instantiate the classifier using 200 trees\n",
    "from sklearn.ensemble import RandomForestClassifier\n",
    "rfc = RandomForestClassifier(random_state = 23, n_estimators=200)"
   ]
  },
  {
   "cell_type": "code",
   "execution_count": 47,
   "metadata": {},
   "outputs": [
    {
     "name": "stdout",
     "output_type": "stream",
     "text": [
      "Test Accuracy score:  0.8226666666666667\n",
      "Test F1 score:  0.48114434330299094\n"
     ]
    }
   ],
   "source": [
    "rfc.fit(X_train, y_train)\n",
    "rfc_pred = rfc.predict(X_test)\n",
    "print('Test Accuracy score: ', accuracy_score(y_test, rfc_pred))\n",
    "print('Test F1 score: ', f1_score(y_test, rfc_pred))"
   ]
  },
  {
   "cell_type": "code",
   "execution_count": null,
   "metadata": {},
   "outputs": [],
   "source": []
  },
  {
   "cell_type": "code",
   "execution_count": null,
   "metadata": {},
   "outputs": [],
   "source": []
  },
  {
   "cell_type": "code",
   "execution_count": null,
   "metadata": {},
   "outputs": [],
   "source": []
  },
  {
   "cell_type": "code",
   "execution_count": null,
   "metadata": {},
   "outputs": [],
   "source": []
  },
  {
   "cell_type": "code",
   "execution_count": null,
   "metadata": {},
   "outputs": [],
   "source": []
  },
  {
   "cell_type": "code",
   "execution_count": null,
   "metadata": {},
   "outputs": [],
   "source": []
  },
  {
   "cell_type": "code",
   "execution_count": null,
   "metadata": {},
   "outputs": [],
   "source": []
  },
  {
   "cell_type": "code",
   "execution_count": null,
   "metadata": {},
   "outputs": [],
   "source": []
  },
  {
   "cell_type": "code",
   "execution_count": null,
   "metadata": {},
   "outputs": [],
   "source": []
  },
  {
   "cell_type": "code",
   "execution_count": 48,
   "metadata": {},
   "outputs": [],
   "source": [
    "scaler = StandardScaler()  \n",
    "scaler.fit(X_train)\n",
    "\n",
    "X_train = scaler.transform(X_train)  \n",
    "X_test = scaler.transform(X_test)  "
   ]
  },
  {
   "cell_type": "code",
   "execution_count": 49,
   "metadata": {},
   "outputs": [
    {
     "name": "stdout",
     "output_type": "stream",
     "text": [
      "Accuracy:0.736\n"
     ]
    }
   ],
   "source": [
    "from sklearn.neighbors import KNeighborsClassifier\n",
    "knn = KNeighborsClassifier(n_neighbors=1)\n",
    "knn.fit(X_train, y_train)\n",
    "y_pred_class = knn.predict(X_test)\n",
    "from sklearn import metrics\n",
    "print('Accuracy:' + str(metrics.accuracy_score(y_test, y_pred_class)))\n"
   ]
  },
  {
   "cell_type": "code",
   "execution_count": 50,
   "metadata": {},
   "outputs": [],
   "source": [
    "from sklearn.metrics import confusion_matrix\n",
    "\n",
    "cm = confusion_matrix(y_test,y_pred_class)\n",
    "classes = ['defaulted', 'notdefaulted']\n",
    "def plot_confusion_matrix(cm, classes,\n",
    "                          normalize=False,\n",
    "                          title='Confusion matrix',\n",
    "                          cmap=plt.cm.Blues):\n",
    "    \"\"\"\n",
    "    This function prints and plots the confusion matrix.\n",
    "    Normalization can be applied by setting `normalize=True`.\n",
    "    \"\"\"\n",
    "    if normalize:\n",
    "        cm = cm.astype('float') / cm.sum(axis=1)[:, np.newaxis]\n",
    "        print(\"Normalized confusion matrix\")\n",
    "    else:\n",
    "        print('Confusion Matrix, without normalization')\n",
    "\n",
    "    print(cm)\n",
    "\n",
    "    plt.imshow(cm, interpolation='nearest', cmap=cmap)\n",
    "    plt.title(title)\n",
    "    plt.colorbar()\n",
    "    tick_marks = np.arange(len(classes))\n",
    "    plt.xticks(tick_marks, classes, rotation=45)\n",
    "    plt.yticks(tick_marks, classes)\n",
    "\n",
    "    fmt = '.2f' if normalize else 'd'\n",
    "    thresh = cm.max() / 2.\n",
    "    for i, j in itertools.product(range(cm.shape[0]), range(cm.shape[1])):\n",
    "        plt.text(j, i, format(cm[i, j], fmt),\n",
    "                 horizontalalignment=\"center\",\n",
    "                 color=\"white\" if cm[i, j] > thresh else \"black\")\n",
    "\n",
    "    plt.tight_layout()\n",
    "    plt.ylabel('True label')\n",
    "    plt.xlabel('Predicted label')"
   ]
  },
  {
   "cell_type": "code",
   "execution_count": 51,
   "metadata": {},
   "outputs": [
    {
     "name": "stdout",
     "output_type": "stream",
     "text": [
      "Confusion Matrix, without normalization\n",
      "[[2907  619]\n",
      " [ 569  405]]\n"
     ]
    },
    {
     "data": {
      "image/png": "[encoded data removed]",
      "text/plain": [
       "<Figure size 432x288 with 2 Axes>"
      ]
     },
     "metadata": {
      "needs_background": "light"
     },
     "output_type": "display_data"
    }
   ],
   "source": [
    "import itertools\n",
    "plot_confusion_matrix(cm, classes,\n",
    "                          normalize=False,\n",
    "                          title='Confusion matrix',\n",
    "                          cmap=plt.cm.Blues)"
   ]
  },
  {
   "cell_type": "code",
   "execution_count": 52,
   "metadata": {},
   "outputs": [
    {
     "data": {
      "text/plain": [
       "0.0    17471\n",
       "1.0     5028\n",
       "Name: default, dtype: int64"
      ]
     },
     "execution_count": 52,
     "metadata": {},
     "output_type": "execute_result"
    }
   ],
   "source": [
    "data.default.value_counts()"
   ]
  },
  {
   "cell_type": "code",
   "execution_count": 53,
   "metadata": {},
   "outputs": [
    {
     "data": {
      "text/plain": [
       "4350"
      ]
     },
     "execution_count": 53,
     "metadata": {},
     "output_type": "execute_result"
    }
   ],
   "source": [
    "3609 + 741"
   ]
  },
  {
   "cell_type": "code",
   "execution_count": 54,
   "metadata": {},
   "outputs": [
    {
     "data": {
      "text/plain": [
       "1275"
      ]
     },
     "execution_count": 54,
     "metadata": {},
     "output_type": "execute_result"
    }
   ],
   "source": [
    "773 +502"
   ]
  },
  {
   "cell_type": "markdown",
   "metadata": {},
   "source": [
    "## 5. Model Fitting and Hyperparameter Tuning\n",
    "KNN, Logistic Regression, Decision Tree"
   ]
  },
  {
   "cell_type": "code",
   "execution_count": null,
   "metadata": {},
   "outputs": [],
   "source": []
  },
  {
   "cell_type": "code",
   "execution_count": null,
   "metadata": {},
   "outputs": [],
   "source": []
  },
  {
   "cell_type": "code",
   "execution_count": null,
   "metadata": {},
   "outputs": [],
   "source": []
  },
  {
   "cell_type": "code",
   "execution_count": null,
   "metadata": {},
   "outputs": [],
   "source": []
  },
  {
   "cell_type": "code",
   "execution_count": null,
   "metadata": {},
   "outputs": [],
   "source": []
  },
  {
   "cell_type": "markdown",
   "metadata": {},
   "source": [
    "## 6. Model Evaluation"
   ]
  },
  {
   "cell_type": "code",
   "execution_count": null,
   "metadata": {},
   "outputs": [],
   "source": []
  },
  {
   "cell_type": "code",
   "execution_count": null,
   "metadata": {},
   "outputs": [],
   "source": []
  },
  {
   "cell_type": "code",
   "execution_count": null,
   "metadata": {},
   "outputs": [],
   "source": []
  },
  {
   "cell_type": "code",
   "execution_count": null,
   "metadata": {},
   "outputs": [],
   "source": []
  },
  {
   "cell_type": "code",
   "execution_count": null,
   "metadata": {},
   "outputs": [],
   "source": []
  },
  {
   "cell_type": "markdown",
   "metadata": {},
   "source": [
    "## 7. Final Model"
   ]
  },
  {
   "cell_type": "code",
   "execution_count": null,
   "metadata": {},
   "outputs": [],
   "source": []
  },
  {
   "cell_type": "code",
   "execution_count": null,
   "metadata": {},
   "outputs": [],
   "source": []
  }
 ],
 "metadata": {
  "kernelspec": {
   "display_name": "Python 3",
   "language": "python",
   "name": "python3"
  },
  "language_info": {
   "codemirror_mode": {
    "name": "ipython",
    "version": 3
   },
   "file_extension": ".py",
   "mimetype": "text/x-python",
   "name": "python",
   "nbconvert_exporter": "python",
   "pygments_lexer": "ipython3",
   "version": "3.7.6"
  },
  "toc": {
   "base_numbering": 1,
   "nav_menu": {},
   "number_sections": true,
   "sideBar": true,
   "skip_h1_title": false,
   "title_cell": "Table of Contents",
   "title_sidebar": "Contents",
   "toc_cell": false,
   "toc_position": {},
   "toc_section_display": true,
   "toc_window_display": false
  }
 },
 "nbformat": 4,
 "nbformat_minor": 2
}
